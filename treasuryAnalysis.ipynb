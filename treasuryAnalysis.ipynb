{
 "cells": [
  {
   "cell_type": "markdown",
   "metadata": {},
   "source": [
    "We seek to accomplish four things here in our analysis of the term structure of treasury notes:  \n",
    "1) Interpolate yields between maturities on a daily basis  \n",
    "2) Run a regression on interpolated values to determine a linear slope (look at the coefficients) throughout the yield curve  \n",
    "3) Measure the change in both the slope (any timeline or stat - like mean yield for the week) and the levels of rates by maturity, to discover steepening/flattening and increase/decrease of yields      \n",
    "4) For context of moves in the yield curves, will plot the distribution of weekly changes in levels and differences in yields between differing maturities (2-10, 10-30)... running this analysis on both a linear scale and natural log"
   ]
  },
  {
   "cell_type": "markdown",
   "metadata": {},
   "source": [
    "For background information: Fed's methodology for [calculating](http://www.treasury.gov/resource-center/data-chart-center/interest-rates/Pages/yieldmethod.aspx) yield curve. More information on methodology may be found [here](http://www.treasury.gov/resource-center/data-chart-center/interest-rates/Pages/TextView.aspx?data=yield). The yields provided by FRED are constant maturity and may involve interpolation/bootstrapping between the latest on the run and off the run bonds. Thus, prices for any given maturity may not be readily observable."
   ]
  },
  {
   "cell_type": "code",
   "execution_count": 1,
   "metadata": {
    "collapsed": false
   },
   "outputs": [],
   "source": [
    "from fredapi import Fred\n",
    "import pandas as pd\n",
    "import numpy as np\n",
    "import math as math\n",
    "import matplotlib.pyplot as plt\n",
    "%matplotlib inline\n",
    "fred= Fred(api_key='70da3ebf45f3904117b34c5147b93443')"
   ]
  },
  {
   "cell_type": "code",
   "execution_count": 2,
   "metadata": {
    "collapsed": false
   },
   "outputs": [],
   "source": [
    "tres10=fred.get_series('DGS10',observation_start='2015-01-01')\n",
    "tedrate=fred.get_series('TEDRATE',observation_start='2015-01-01')\n",
    "twoyr=fred.get_series('DGS2',observation_start='2015-01-01')\n",
    "thirty=fred.get_series('DGS30',observation_start='2015-01-01')\n",
    "five=fred.get_series('DGS5',observation_start='2015-01-01')\n",
    "\n",
    "oneyr=fred.get_series('DGS1', observation_start='2015-01-01')\n",
    "twentyyr=fred.get_series('DGS20',observation_start='2015-01-01')\n",
    "threemon=fred.get_series('DGS3MO',observation_start='2015-01-01')\n",
    "threeyr=fred.get_series('DGS3',observation_start='2015-01-01')\n",
    "sevenyr=fred.get_series('DGS7',observation_start='2015-01-01')\n",
    "sixmon=fred.get_series('DGS6MO',observation_start='2015-01-01')"
   ]
  },
  {
   "cell_type": "markdown",
   "metadata": {},
   "source": [
    "Put all four treasury series in a data frame:"
   ]
  },
  {
   "cell_type": "code",
   "execution_count": null,
   "metadata": {
    "collapsed": true
   },
   "outputs": [],
   "source": [
    "dic={'ten':tres10,'twoyr':twoyr,'five':five,'thirty':thirty,'one':oneyr,'twenty':twentyyr,'three_month':threemon,'three':threeyr,'seven':sevenyr,'six_month':sixmon}\n",
    "dic_df=pd.DataFrame(dic)"
   ]
  },
  {
   "cell_type": "code",
   "execution_count": null,
   "metadata": {
    "collapsed": false
   },
   "outputs": [],
   "source": [
    "dic_df.columns"
   ]
  },
  {
   "cell_type": "code",
   "execution_count": null,
   "metadata": {
    "collapsed": false
   },
   "outputs": [],
   "source": [
    "#organizing the df by maturity\n",
    "df=dic_df.iloc[:,[7,3,1,9,6,0,2,4,8,5]]\n",
    "#print 'length of dic_df: ', dic_df.shape\n",
    "#print list(dic_df.index)[4]\n",
    "df.tail()\n",
    "\n",
    "#real=np.array(df.iloc[4,])\n",
    "#len(real)"
   ]
  },
  {
   "cell_type": "code",
   "execution_count": null,
   "metadata": {
    "collapsed": true
   },
   "outputs": [],
   "source": [
    "from scipy.stats import itemfreq #a function that counts frequency of variables\n",
    "#this function does the same: np.unique(removed, return_counts=True)"
   ]
  },
  {
   "cell_type": "code",
   "execution_count": null,
   "metadata": {
    "collapsed": false
   },
   "outputs": [],
   "source": [
    "removed=df.apply(pd.notnull,axis=1,reduce=True)\n",
    "removed_1=removed.any(axis=1)\n",
    "\n",
    "free=df[removed_1]"
   ]
  },
  {
   "cell_type": "markdown",
   "metadata": {},
   "source": [
    "Applying a linear interpolation:"
   ]
  },
  {
   "cell_type": "code",
   "execution_count": null,
   "metadata": {
    "collapsed": false,
    "scrolled": false
   },
   "outputs": [],
   "source": [
    "import scipy.interpolate as sp\n",
    "x=np.array([.25,.5,1,2,3,5,7,10,20,30])\n",
    "real=np.array(free.iloc[215,]) #grab one particular day of observed yields\n",
    "#interp1d = derive a function f(x)\n",
    "test=sp.interp1d(x,real,kind='linear') #notice that this is 1-d interpolation\n",
    "xnew=np.linspace(.5,30,num=41,endpoint=True) #linspace returns evenly spaced numbers over a specified interval\n",
    "plt.plot(x, real, 'o', xnew, test(xnew), '-')\n",
    "noGood=list(free.index)[215].strftime(\"%B %d %Y\") #free = name of dataframe\n",
    "ttl=plt.title(noGood)\n",
    "\n",
    "\n",
    "plt.show()"
   ]
  },
  {
   "cell_type": "markdown",
   "metadata": {},
   "source": [
    "Let's try it again, this time with a quadratic approximation... however, I think fitting a quadratic model is a more appropriate way to state it... one cannot apply linear or quadratic approximation w/o having the function. Linear and quadratic interpolation derive the function."
   ]
  },
  {
   "cell_type": "code",
   "execution_count": null,
   "metadata": {
    "collapsed": false
   },
   "outputs": [],
   "source": [
    "xnew=np.linspace(.25,30,num=41,endpoint=True)\n",
    "print(xnew)"
   ]
  },
  {
   "cell_type": "code",
   "execution_count": null,
   "metadata": {
    "collapsed": false
   },
   "outputs": [],
   "source": [
    "x=np.array([.25,.5,1,2,3,5,7,10,20,30])\n",
    "real=np.array(free.iloc[208,])\n",
    "#interp1d = derive a function f(x)\n",
    "quad=sp.interp1d(x,real,kind='quadratic') #notice that this is 1-d interpolation\n",
    "xnew=np.linspace(2,30,num=41,endpoint=True)\n",
    "\n",
    "plt.plot(x, real, 'o', xnew, quad(xnew), '-')\n",
    "\n",
    "#try to place both graphs in a row array\n",
    "#fig, axs = plt.subplots(1, 2, sharey=True)\n",
    "\n",
    "plt.show()"
   ]
  },
  {
   "cell_type": "markdown",
   "metadata": {},
   "source": [
    "We try to determine steepening of the curve as well as steepness within a maturity range - short, mid and long dated. The slope will allow for comparison to other points in time... we still search for the most appropriate method to determine slope.\n",
    "\n",
    "Below, we take the natural logarithm (inverse exponential function) of the yield to maturities."
   ]
  },
  {
   "cell_type": "code",
   "execution_count": null,
   "metadata": {
    "collapsed": false
   },
   "outputs": [],
   "source": [
    "import math\n",
    "print(free.iloc[208,])\n",
    "print(free.iloc[208,].map(math.log))\n",
    "\n",
    "logged=free.iloc[208,].map(math.log)"
   ]
  },
  {
   "cell_type": "code",
   "execution_count": null,
   "metadata": {
    "collapsed": false
   },
   "outputs": [],
   "source": [
    "import scipy.interpolate as sp\n",
    "x=np.array([.25,.5,1,2,3,5,7,10,20,30]) #length = 10\n",
    "real=np.array(logged)\n",
    "#interp1d = derive a function f(x)\n",
    "test=sp.interp1d(x,real,kind='linear') #notice that this is 1-d interpolation\n",
    "xnew=np.linspace(.5,30,num=41,endpoint=True) #linspace returns evenly spaced numbers over a specified interval\n",
    "plt.plot(x, real, 'o', xnew, test(xnew), '-')\n",
    "noGood='Logged yield observations - ' + list(free.index)[215].strftime(\"%B %d %Y\")\n",
    "ttl=plt.title(noGood)\n",
    "\n",
    "plt.show()"
   ]
  },
  {
   "cell_type": "markdown",
   "metadata": {},
   "source": [
    "We didn't get much from applying the natural log... although it may help with future regressions. This may make application of linear regression to portions of the curve a bit more feasible... notice how the short end and long end yields are nearly flat.\n",
    "\n",
    "Last resort... apply a spline function to the data points. We should only need to take the spline to the order of two or one (quadratic or linear). Some background on a [spline function](http://www.psych.mcgill.ca/misc/fda/ex-basis-c3.html), and [here](https://en.wikibooks.org/wiki/Introduction_to_Numerical_Methods/Interpolation). Interpreting [coefficients](http://www.cs.mtu.edu/~shene/COURSES/cs3621/NOTES/spline/B-spline/bspline-basis.html), more [here](http://stats.stackexchange.com/questions/97845/interpreting-spline-results), and [here](http://www.r-bloggers.com/splines-opening-the-black-box/).\n",
    "\n",
    "I'm not sure the order size of the below. I will ultimately need to extract the derivative to determine slope."
   ]
  },
  {
   "cell_type": "markdown",
   "metadata": {},
   "source": [
    "There are many spline functions/utilities that can be applied here depending on number of dimensions and how I want to control the knot points. A smoothing spline will use fewer data points. My space is a one-dimensional where I want to force the spline through each data point, and so desire no smoothing."
   ]
  },
  {
   "cell_type": "markdown",
   "metadata": {},
   "source": [
    "Below is a univariate spline, a 1-d spline with parameters for smoothing. Here we apply no smoothing, thus forcing the spline through each of the data points. This function implicitly executes 'splprep'."
   ]
  },
  {
   "cell_type": "code",
   "execution_count": null,
   "metadata": {
    "collapsed": false
   },
   "outputs": [],
   "source": [
    "#Pick a day to run the interpolation - we choose day 216\n",
    "\n",
    "#free.columns.values\n",
    "#free.shape\n",
    "y=free.iloc[216,]\n",
    "# 's' becomes a function that takes an independent variable as a parameter\n",
    "s=sp.InterpolatedUnivariateSpline(x,y) #sp = scipy.interpolate... x = term to maturity (fraction of yrs, the 'x' points of real data); y = yield\n",
    "xnew=np.arange(0,max(x),max(x)/40) #intermittent x points\n",
    "ynew=s(xnew) # 's' becomes a function to which we apply the new x coordinates"
   ]
  },
  {
   "cell_type": "code",
   "execution_count": null,
   "metadata": {
    "collapsed": false
   },
   "outputs": [],
   "source": [
    "plt.figure()\n",
    "plt.plot(x, y, 'x', xnew, ynew, '-')\n",
    "#plt.plot(x, y, 'x', xnew, ynew, xnew, np.sin(xnew), x, y, 'b')\n",
    "plt.legend(['Linear', 'InterpolatedUnivariateSpline', 'True'],loc=2)\n",
    "#plt.axis(x)\n",
    "plt.title('InterpolatedUnivariateSpline')\n",
    "plt.show()"
   ]
  },
  {
   "cell_type": "markdown",
   "metadata": {},
   "source": [
    "Let's extract the derivative of the spline function and plot it... we want to compare this spline with the explicit cubic spline we calculate below.\n",
    "\n",
    "Problem: interpolatedunivariatespline derivative function is only available at specific values of x, and returns a family of derivatives (0th, 1st, 2nd, etc). And the command \"ynew_univ_der = sp.splev(xnew, s, der=1) #tck = sp.splrep(x, y, s=0)\" doesn't work because 's' is not iterable."
   ]
  },
  {
   "cell_type": "markdown",
   "metadata": {},
   "source": [
    "Fitting a spline based on the generic splprep function."
   ]
  },
  {
   "cell_type": "code",
   "execution_count": null,
   "metadata": {
    "collapsed": false
   },
   "outputs": [],
   "source": [
    "tck = sp.splrep(x, y, s=0) #s for smoothing= control the trade-off between closeness and smoothness of fit. Larger s means more smoothing while smaller values of s indicate less smoothing\n",
    "#tck = a tuple containing the vector of knots, the B-spline coefficients, and the degree of the spline\n",
    "xnew = np.arange(0,max(x),max(x)/40)\n",
    "ynew_splprep = sp.splev(xnew, tck, der=0)"
   ]
  },
  {
   "cell_type": "code",
   "execution_count": null,
   "metadata": {
    "collapsed": false
   },
   "outputs": [],
   "source": [
    "print (\"x = {0}\".format(x))\n",
    "print\"tck output: vector of knots= {0}; B-spline coefficients= {1}; degree of the spline={2}\".format(tck[0],tck[1],tck[2])"
   ]
  },
  {
   "cell_type": "code",
   "execution_count": null,
   "metadata": {
    "collapsed": false
   },
   "outputs": [],
   "source": [
    "plt.figure()\n",
    "plt.plot(x, y, 'x', xnew, ynew_splprep, '-')\n",
    "plt.legend(['Actual', 'Cubic Spline', 'True'])\n",
    "\n",
    "plt.title('Cubic-spline interpolation')\n",
    "plt.show()\n"
   ]
  },
  {
   "cell_type": "markdown",
   "metadata": {},
   "source": [
    "Derive the derivative of the chosen spline and attempt to glean the gradient of the slope... can perhaps use the derivative function to compare changes in yield curve."
   ]
  },
  {
   "cell_type": "code",
   "execution_count": null,
   "metadata": {
    "collapsed": false
   },
   "outputs": [],
   "source": [
    "ynew_der = sp.splev(xnew, tck, der=1) #tck = sp.splrep(x, y, s=0)\n",
    "plt.figure()\n",
    "testies=np.repeat(0,len(xnew))\n",
    "plt.plot(xnew, ynew_splprep, '-',xnew,ynew_der,'--',xnew,testies,'-')\n",
    "plt.legend(['Cubic Spline', 'Derivative'])\n",
    "plt.axis([-0.05, 30.5, -1.05, 4.5]) #a matrix of x, y vectors that frame the graph\n",
    "plt.title('Derivative estimation from spline')\n",
    "#ax1.axhline(y=0.000,xmin=0,xmax=3,c=\"blue\",linewidth=0.5,zorder=0)\n",
    "plt.show()"
   ]
  },
  {
   "cell_type": "markdown",
   "metadata": {},
   "source": [
    "The above plot of the derivative looks too flat for the observed slope of the cubic spline. Let's try to get some raw data on the cubic spline and calculate discrete slopes."
   ]
  },
  {
   "cell_type": "code",
   "execution_count": null,
   "metadata": {
    "collapsed": false
   },
   "outputs": [],
   "source": [
    "rate_series=pd.Series(sp.splev(xnew, tck, der=0),index=xnew) #let's put this into a time series w/index= maturity"
   ]
  },
  {
   "cell_type": "code",
   "execution_count": null,
   "metadata": {
    "collapsed": false
   },
   "outputs": [],
   "source": [
    "def slope(ser):\n",
    "    rates={} #create dictionary\n",
    "    for i in range(len(ser)-1):\n",
    "        rates[ser.index[i]]=(ser.iloc[i+1]-ser.iloc[i])/(ser.index[i+1]-ser.index[i])\n",
    "    return rates\n",
    "slopers=slope(rate_series)"
   ]
  },
  {
   "cell_type": "markdown",
   "metadata": {},
   "source": [
    "OK, well, the derivative function looks legit when compared with the discrete slopes..."
   ]
  },
  {
   "cell_type": "markdown",
   "metadata": {},
   "source": [
    "Above is the plot of the derivative. We now want to track the value of derivative for different ranges of x - used to capture the change in slope over different ranges of maturity - short, medium, long.\n",
    "\n",
    "It appears that calculating (change in y)/(change in x) from the linear interpolation may be good enough... because derivatives are only useful for examining changes in yield to very small ranges of x*, but I want a wider scope of term to maturities.\n",
    "\n",
    "Spline interpolation is useful if I want to solve the derivative for a specified value (or range) of x that is not provided by the FRED data. This tract involves measuring the vertical distance in the derivative functions for different days.\n",
    "\n",
    "*Not correct: we can integrate over the height of the yield curve to arrive at the area underneath the curve to understand levels of the curve. We apply this again to understand changes in slope: the slope of the yield curve is the first derivative to the untreated yield curve function. We will integrate through this derivate to arrive at the area under the derivative function and compare this to other trading days to understand changes in slope. We treat slope as an integrable function because the slope changes rapidly across the yield curve."
   ]
  },
  {
   "cell_type": "markdown",
   "metadata": {},
   "source": [
    "\n",
    "We'll try that here: measure the vertical distance across the entire range of x and pinpoint ranges of x where there is a vertical difference. We run this analysis on the real x-points from the FRED data. We can try this later on the spline curve. We will compare row free.iloc[243] (day 243) to free.iloc[230] (day 230)."
   ]
  },
  {
   "cell_type": "code",
   "execution_count": null,
   "metadata": {
    "collapsed": true
   },
   "outputs": [],
   "source": [
    "day243=free.iloc[243]\n",
    "day230=free.iloc[230]\n",
    "\n",
    "tck243 = sp.splrep(x, day243, s=0)\n",
    "tck230 = sp.splrep(x, day230, s=0)\n",
    "\n",
    "xnew = np.arange(0,max(x),max(x)/40)\n",
    "ynew_splprep = sp.splev(xnew, tck243, der=0)\n",
    "ynew_splprep = sp.splev(xnew, tck230, der=0)"
   ]
  },
  {
   "cell_type": "markdown",
   "metadata": {},
   "source": [
    "Measuring differences between the real x-values as opposed to the spline interpolated values."
   ]
  },
  {
   "cell_type": "code",
   "execution_count": null,
   "metadata": {
    "collapsed": false
   },
   "outputs": [],
   "source": [
    "diff13=day243-day230\n",
    "print (\"Linear difference between two days: \\n{0}\".format(diff13))\n",
    "#print\"tck output: vector of knots= {0}; B-spline coefficients= {1}; degree of the spline={2}\".format(tck[0],tck[1],tck[2])\n",
    "\n",
    "#day243-day230"
   ]
  },
  {
   "cell_type": "code",
   "execution_count": null,
   "metadata": {
    "collapsed": false
   },
   "outputs": [],
   "source": [
    "#plot the change between maturities (day-over-day)\n",
    "plt.figure()\n",
    "plt.plot(x, diff13, '-')\n",
    "plt.legend(['linear difference'])\n",
    "plt.axis([-0.05, 30.5, -.1, 0.2]) #a matrix of x, y vectors that frame the graph\n",
    "plt.title('Difference in maturity (simple difference) - day-over-day (no interpolation)')\n",
    "#ax1.axhline(y=0.000,xmin=0,xmax=3,c=\"blue\",linewidth=0.5,zorder=0)\n",
    "plt.show()"
   ]
  },
  {
   "cell_type": "code",
   "execution_count": null,
   "metadata": {
    "collapsed": false
   },
   "outputs": [],
   "source": [
    "print(free.index[-5:]) #the last 5 entries on the list\n",
    "print(free.index.shape)\n",
    "print(free.index[262])"
   ]
  },
  {
   "cell_type": "code",
   "execution_count": null,
   "metadata": {
    "collapsed": false
   },
   "outputs": [],
   "source": [
    "tck230=sp.splrep(x,day230,s=0)\n",
    "\n",
    "\n",
    "tck243=sp.splrep(x,day243,s=0)\n",
    "\n",
    "#the 0th derivative of each...\n",
    "y230_spl=sp.splev(xnew,tck230,der=0)\n",
    "y243_spl=sp.splev(xnew,tck243,der=0)\n",
    "\n",
    "diff_s=y243_spl-y230_spl #diff_s measures the linear difference between each x-point of the interpolation ~40"
   ]
  },
  {
   "cell_type": "code",
   "execution_count": null,
   "metadata": {
    "collapsed": false
   },
   "outputs": [],
   "source": [
    "y0=np.repeat(0,len(xnew)) #make the 0 line\n",
    "plt.figure()\n",
    "plt.plot(xnew, diff_s, '-',xnew,y0,'-')\n",
    "plt.legend(['linear difference'])\n",
    "plt.axis([-0.05, 30.5, -.25, 0.5]) #a matrix of x, y vectors that frame the graph\n",
    "plt.title('Difference in maturity (simple difference) on spline - day-over-day')\n",
    "#ax1.axhline(y=0.000,xmin=0,xmax=3,c=\"blue\",linewidth=0.5,zorder=0)\n",
    "plt.show()"
   ]
  },
  {
   "cell_type": "code",
   "execution_count": null,
   "metadata": {
    "collapsed": false
   },
   "outputs": [],
   "source": [
    "#free.shape = (255,10)\n",
    "#transpose the dataframe... in case it makes it easier:\n",
    "tran_free=free.transpose() #observation days are in columns... term to maturity is in rows\n",
    "#tran_free.index"
   ]
  },
  {
   "cell_type": "markdown",
   "metadata": {},
   "source": [
    "A function that creates a spline interpolation of each data row then compiles it in a dataframe for easy comparison and manipulation.\n",
    "\n",
    "FRED data comes over with maturities as columns and the observations in rows."
   ]
  },
  {
   "cell_type": "code",
   "execution_count": null,
   "metadata": {
    "collapsed": true
   },
   "outputs": [],
   "source": [
    "#takes a dataframe of real observations, applies a spline to create new yields for interpolated maturities\n",
    "\n",
    "#first need to create the function that I apply columnwise/rowwise using pd.df.apply()\n",
    "def splineIt(rows):\n",
    "    #xnew=np.linspace(.25,30,endpoint=True,num=40)\n",
    "#output a spline interpolated array\n",
    "    xnew=np.linspace(start=0.25,stop=30,num=60)\n",
    "    tckrow = sp.splrep(x, rows, s=0)\n",
    "    '''\n",
    "    x = the given/observed real maturities in numeric form, ex. 3 for the three year note; len(x)=10\n",
    "    '''\n",
    "    ynew_splprep = sp.splev(xnew, tckrow, der=0)\n",
    "    #convert to a series\":\n",
    "    tck_s=pd.Series(ynew_splprep)\n",
    "    #return rowspl #length=40\n",
    "    return tck_s #a tuple"
   ]
  },
  {
   "cell_type": "code",
   "execution_count": null,
   "metadata": {
    "collapsed": false
   },
   "outputs": [],
   "source": [
    "#veryify output of 'splineIt()'\n",
    "test=splineIt(free.iloc[25])\n",
    "\n",
    "'''\n",
    "print(x)\n",
    "print(len(test))\n",
    "print(test)\n",
    "print(type(test))\n",
    "'''"
   ]
  },
  {
   "cell_type": "markdown",
   "metadata": {},
   "source": [
    "SplineIt returns an array of length 40 (for now), if I apply this function systematically to a dataframe of actual observations, this will return 40 observations from the original 10 maturity yields. I store the output of each iterative application of 'splineIt' into a new dataframe having no. of columns = 40."
   ]
  },
  {
   "cell_type": "code",
   "execution_count": null,
   "metadata": {
    "collapsed": false
   },
   "outputs": [],
   "source": [
    "#columnwise or rowwise application... depends if I'm using the transposed df or the original\n",
    "def splineExpansion(df):\n",
    "    rowx,coly= df.shape\n",
    "    mari=df.apply(splineIt,axis='columns',reduce=False) #\"splineIt\" returns a tuple\n",
    "    return mari #does this return a dataframe of the appropriate size?\n",
    "    #will be easiest to create a dictionary of series/lists then turn it into a df   "
   ]
  },
  {
   "cell_type": "code",
   "execution_count": null,
   "metadata": {
    "collapsed": false
   },
   "outputs": [],
   "source": [
    "tiempo=splineExpansion(free) #free = 255,10, so should be applied rowwise\n",
    "print(tiempo.shape) #the new 60 point interpolation\n",
    "#rename columns of tiempo to coincide with the actual maturity\n",
    "#tiempo.columns=xnew"
   ]
  },
  {
   "cell_type": "markdown",
   "metadata": {},
   "source": [
    "The spline interpolation needs to include all observation points. From simple review, it leaves off the 30 year."
   ]
  },
  {
   "cell_type": "code",
   "execution_count": null,
   "metadata": {
    "collapsed": true
   },
   "outputs": [],
   "source": [
    "print(tiempo.shape)\n",
    "print(len(xnew))\n",
    "print(type(tiempo.iloc[:,[1]]))\n",
    "print(tiempo.iloc[1,])"
   ]
  },
  {
   "cell_type": "code",
   "execution_count": null,
   "metadata": {
    "collapsed": false
   },
   "outputs": [],
   "source": [
    "#re-do this to account for the new, longer interpolation with 60 data points\n",
    "dia1=tiempo.iloc[1,] # a pandas series\n",
    "free1=free.iloc[1,] #a pandas series\n",
    "free1.index=x\n",
    "\n",
    "#let's compare the interpolation with the observed to verify that interpolated yields coincide w/actual obs\n",
    "cony=pd.concat([free1,dia1],axis=1,join='outer')\n",
    "print cony"
   ]
  },
  {
   "cell_type": "markdown",
   "metadata": {},
   "source": [
    "This proves that the interpolation spline is not working as anticipated... Actual observations are not reproduced. This is due to the linspace interpolation - it left out the x-points of the real data... there is no way to impute those, so as a solution, I augment the linspace to n=60 from n=40.\n",
    "\n",
    "Need to re-run the above (1/31/16)"
   ]
  },
  {
   "cell_type": "code",
   "execution_count": 63,
   "metadata": {
    "collapsed": false
   },
   "outputs": [
    {
     "data": {
      "text/plain": [
       "array([  0.25      ,   0.75423729,   1.25847458,   1.76271186,\n",
       "         2.26694915,   2.77118644,   3.27542373,   3.77966102,\n",
       "         4.28389831,   4.78813559,   5.29237288,   5.79661017,\n",
       "         6.30084746,   6.80508475,   7.30932203,   7.81355932,\n",
       "         8.31779661,   8.8220339 ,   9.32627119,   9.83050847,\n",
       "        10.33474576,  10.83898305,  11.34322034,  11.84745763,\n",
       "        12.35169492,  12.8559322 ,  13.36016949,  13.86440678,\n",
       "        14.36864407,  14.87288136,  15.37711864,  15.88135593,\n",
       "        16.38559322,  16.88983051,  17.3940678 ,  17.89830508,\n",
       "        18.40254237,  18.90677966,  19.41101695,  19.91525424,\n",
       "        20.41949153,  20.92372881,  21.4279661 ,  21.93220339,\n",
       "        22.43644068,  22.94067797,  23.44491525,  23.94915254,\n",
       "        24.45338983,  24.95762712,  25.46186441,  25.96610169,\n",
       "        26.47033898,  26.97457627,  27.47881356,  27.98305085,\n",
       "        28.48728814,  28.99152542,  29.49576271,  30.        ])"
      ]
     },
     "execution_count": 63,
     "metadata": {},
     "output_type": "execute_result"
    }
   ],
   "source": [
    "np.linspace(start=0.25,stop=30,num=60)"
   ]
  },
  {
   "cell_type": "code",
   "execution_count": 34,
   "metadata": {
    "collapsed": false
   },
   "outputs": [
    {
     "data": {
      "image/png": "[encoded data removed]",
      "text/plain": [
       "<matplotlib.figure.Figure at 0x7f03841f3f90>"
      ]
     },
     "metadata": {},
     "output_type": "display_data"
    }
   ],
   "source": [
    "'''\n",
    "plt.figure()\n",
    "plt.plot(xnew, diff_s, '-',xnew,y0,'-')\n",
    "plt.legend(['linear difference'])\n",
    "plt.axis([-0.05, 30.5, -.25, 0.5]) #a matrix of x, y vectors that frame the graph\n",
    "plt.title('Difference in maturity (simple difference) on spline - day-over-day')\n",
    "#ax1.axhline(y=0.000,xmin=0,xmax=3,c=\"blue\",linewidth=0.5,zorder=0)\n",
    "plt.show()\n",
    "'''\n",
    "ynew=tiempo.iloc[262,:]\n",
    "yaxis=free.iloc[262]\n",
    "plt.figure()\n",
    "plt.plot(xnew,ynew,'-',x,yaxis,'x')\n",
    "plt.axis([-0.05, 30.5, -.25, 4.0])\n",
    "plt.title('Confirm validity of \"splineExpansion\" function')\n",
    "plt.show()"
   ]
  },
  {
   "cell_type": "code",
   "execution_count": 35,
   "metadata": {
    "collapsed": false
   },
   "outputs": [
    {
     "name": "stdout",
     "output_type": "stream",
     "text": [
      "three_month    0.25\n",
      "six_month      0.43\n",
      "one            0.55\n",
      "twoyr          0.90\n",
      "three          1.14\n",
      "five           1.52\n",
      "seven          1.87\n",
      "ten            2.10\n",
      "twenty         2.51\n",
      "thirty         2.90\n",
      "Name: 2016-01-14 00:00:00, dtype: float64\n"
     ]
    },
    {
     "data": {
      "text/plain": [
       "'\\nprint(y262_spl)\\nprint(tiempo.iloc[262,:])\\n'"
      ]
     },
     "execution_count": 35,
     "metadata": {},
     "output_type": "execute_result"
    }
   ],
   "source": [
    "#I think this is working... not yet 100% because the individual spline I'm running is giving me slightly different numbers\n",
    "\n",
    "print(free.iloc[259])\n",
    "\n",
    "tck262=sp.splrep(x,free.iloc[262],s=0)\n",
    "\n",
    "#tck243=sp.splrep(x,day243,s=0)\n",
    "\n",
    "#the 0th derivative of each...\n",
    "y262_spl=sp.splev(xnew,tck262,der=0)\n",
    "'''\n",
    "print(y262_spl)\n",
    "print(tiempo.iloc[262,:])\n",
    "'''"
   ]
  },
  {
   "cell_type": "markdown",
   "metadata": {},
   "source": [
    "At this point I have series/lists of derivatives at each maturity point. From here I can choose to plot point differences between the two series to determine ranges of differences. I can also blow this up and measure linear slopes between maturity groups, ultimately coming back to this study of point differences."
   ]
  },
  {
   "cell_type": "markdown",
   "metadata": {},
   "source": [
    "First, to create a dataframe of midpoints of each range of maturity: short, medium, long.\n",
    "\n",
    "Short term: 2-5 year; medium term: 7-10; long term: 10-30\n",
    "\n",
    "This won't be as easy as I want because the median of a maturity range may require a linear interpolation between two maturities."
   ]
  },
  {
   "cell_type": "code",
   "execution_count": 36,
   "metadata": {
    "collapsed": false
   },
   "outputs": [
    {
     "name": "stdout",
     "output_type": "stream",
     "text": [
      "Int64Index([ 0,  1,  2,  3,  4,  5,  6,  7,  8,  9, 10, 11, 12, 13, 14, 15, 16,\n",
      "            17, 18, 19, 20, 21, 22, 23, 24, 25, 26, 27, 28, 29, 30, 31, 32, 33,\n",
      "            34, 35, 36, 37, 38, 39],\n",
      "           dtype='int64')\n",
      "3.0\n",
      "8.0\n",
      "19.5\n"
     ]
    }
   ],
   "source": [
    "print(tiempo.columns)\n",
    "\n",
    "st=np.arange(2,5)\n",
    "med=np.arange(7,10)\n",
    "lt=np.arange(10,30)\n",
    "\n",
    "print(np.median(st))\n",
    "print(np.median(med))\n",
    "print(np.median(lt))\n",
    "\n",
    "#tiempo[[1]]"
   ]
  },
  {
   "cell_type": "code",
   "execution_count": 37,
   "metadata": {
    "collapsed": false
   },
   "outputs": [],
   "source": [
    "#print(tiempo.iloc[252,[2]])\n",
    "#print(tiempo.iloc[252,:])"
   ]
  },
  {
   "cell_type": "code",
   "execution_count": 46,
   "metadata": {
    "collapsed": false
   },
   "outputs": [
    {
     "name": "stdout",
     "output_type": "stream",
     "text": [
      "2.434108444\n"
     ]
    },
    {
     "data": {
      "text/plain": [
       "\"\\nprint('xs are {0}'.format(xs))\\n\\nprint('ys are {0}'.format(ys))\\nprint('printing only one: {0}'.format (tiempo.iloc[252,[20]]))\\nprint(tiempo.iloc[252,20])\\nprint(tiempo[20][252])\\n\""
      ]
     },
     "execution_count": 46,
     "metadata": {},
     "output_type": "execute_result"
    }
   ],
   "source": [
    "from scipy import interpolate\n",
    "#try using scipy.interpolate\n",
    "xs=[20,19]\n",
    "#dataframe indexing by column name; in this case, the column name is an integer and not a string\n",
    "ys=[tiempo[20][252],tiempo[19][252]] #each index returns a bunch of garbage\n",
    "f=interpolate.interp1d(xs,ys)#create a function out of the interpolation\n",
    "#print(f(19.5))\n",
    "'''\n",
    "print('printing only one: {0}'.format (tiempo.iloc[252,[20]]))\n",
    "'''"
   ]
  },
  {
   "cell_type": "code",
   "execution_count": 58,
   "metadata": {
    "collapsed": false
   },
   "outputs": [],
   "source": [
    "#Verification of the above\n",
    "xz=[20,19]\n",
    "yz=[2.450232,2.417985]\n",
    "f=interpolate.interp1d(xz,yz)\n",
    "\n",
    "#f(19.5)"
   ]
  },
  {
   "cell_type": "markdown",
   "metadata": {},
   "source": [
    "Here is a function that accepts one maturit (the median of the maturity range) selects the closest maturity from the interpolated dataframe. The function considers the range of column names of the dataframe parameter to match the median. "
   ]
  },
  {
   "cell_type": "code",
   "execution_count": null,
   "metadata": {
    "collapsed": true
   },
   "outputs": [],
   "source": [
    "def calcMedian(x,df):\n",
    "    down=math.floor(x)\n",
    "    up=math.ceil(x)\n",
    "    mats=[df.columns]\n",
    "    #search for appropriate columns\n",
    "    #it would be a bit difficult to grab the exact median, so I will just choose the maturity that is closest\n",
    "    pos=(np.abs(mats-x)).argmin()\n",
    "    "
   ]
  },
  {
   "cell_type": "markdown",
   "metadata": {},
   "source": [
    "Now I need to calculate the median rate for the st, mt and lt. I'll put this in a separate dataframe."
   ]
  },
  {
   "cell_type": "code",
   "execution_count": 21,
   "metadata": {
    "collapsed": false
   },
   "outputs": [
    {
     "data": {
      "image/png": "[encoded data removed]",
      "text/plain": [
       "<matplotlib.figure.Figure at 0x7f28b06d4650>"
      ]
     },
     "metadata": {},
     "output_type": "display_data"
    }
   ],
   "source": [
    "itDiff=y243_spl-y230_spl\n",
    "\n",
    "plt.plot(xnew, itDiff, '-')\n",
    "#plt.legend(['ic Spline', 'Derivative'])\n",
    "plt.axis([-0.05, 30.5, -.2, 0.5]) #a matrix of x, y vectors that frame the graph\n",
    "plt.title('Differences in Derivative Between Days')\n",
    "#ax1.axhline(y=0.000,xmin=0,xmax=3,c=\"blue\",linewidth=0.5,zorder=0)\n",
    "plt.show()\n"
   ]
  },
  {
   "cell_type": "markdown",
   "metadata": {},
   "source": [
    "I'll do away with derivatives (limit change of x -> 0) because it doesn't have much practical application. Ex. the derivative at the 10 year maturity between two different dates measures the rate of change of interest rates near the 10 year... but we care about relationships (differences) between a bit wider terms of maturity. The question becomes is measuring point differences (individual maturities) between different maturity groups appropriate?"
   ]
  },
  {
   "cell_type": "markdown",
   "metadata": {},
   "source": [
    "We observe the slope between 4 sets of maturities to capture steepness for each maturity bucket: short (3mo - 2yr), intermediate.1 (3yr-7yr), intermediate.2 (5yr-10yr), and long (10yr-30yr). The slope can either be measured at the midpoint of the maturity range or the average of the max and min derivative values...\n",
    "\n",
    "To measure levels, we take the difference in yields (0th derivative) at these same maturities.\n",
    "\n",
    "We will do this here and place it in the yield dataframe."
   ]
  },
  {
   "cell_type": "code",
   "execution_count": 18,
   "metadata": {
    "collapsed": false
   },
   "outputs": [
    {
     "data": {
      "text/plain": [
       "array(0.2982795394613951)"
      ]
     },
     "execution_count": 18,
     "metadata": {},
     "output_type": "execute_result"
    }
   ],
   "source": [
    "#create a function that outputs 4 data points: the derivative value at x = 1.125 yr, 5 yr, 7.5 yr, 20 yr.\n",
    "sp.splev(1.125, tck, der=1) #verify that a derivative of .29827 is accurate"
   ]
  },
  {
   "cell_type": "code",
   "execution_count": 59,
   "metadata": {
    "collapsed": false
   },
   "outputs": [
    {
     "data": {
      "text/plain": [
       "(246, 10)"
      ]
     },
     "execution_count": 59,
     "metadata": {},
     "output_type": "execute_result"
    }
   ],
   "source": [
    "free.shape"
   ]
  },
  {
   "cell_type": "markdown",
   "metadata": {},
   "source": [
    "To compare changes of these measurements over time.\n",
    "\n",
    "The yield curve (as a whole) can shift in several ways when compared to historical curves:\n",
    "a) steepen  \n",
    "b) experience a shift in levels  \n",
    "\n",
    "'a' requires an analysis on all four maturity buckets and between a couple of maturity differences (2,30) and (10,30) across specific time intervals. We do this by calculating the linear slope between the endpoints of each maturity bucket, as well as the linear slope between the yields of (2,30) and (10,30).\n",
    "'b' involves calculating the linear difference in yields; calculate average shifts for maturity ranges (short, medium, long)\n",
    "\n",
    "Write a program that has parameters: length of interval (days), number of intervals. Output Table 1: one table (df or other) with columns = maturities - including the (2,30) and (10,30), rows = linear slope for each maturity... Output Table 2: a similar table as 1 having columns = maturities, rows = average difference in yields for that maturity bucket"
   ]
  }
 ],
 "metadata": {
  "kernelspec": {
   "display_name": "Python 3",
   "language": "python",
   "name": "python3"
  },
  "language_info": {
   "codemirror_mode": {
    "name": "ipython",
    "version": 3
   },
   "file_extension": ".py",
   "mimetype": "text/x-python",
   "name": "python",
   "nbconvert_exporter": "python",
   "pygments_lexer": "ipython3",
   "version": "3.5.1"
  }
 },
 "nbformat": 4,
 "nbformat_minor": 0
}
